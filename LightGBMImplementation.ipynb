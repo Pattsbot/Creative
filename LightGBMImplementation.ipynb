{
 "cells": [
  {
   "cell_type": "markdown",
   "metadata": {},
   "source": [
    "# Hyperparameter tunning for LightGBM"
   ]
  },
  {
   "cell_type": "markdown",
   "metadata": {},
   "source": [
    "We will tune the below parameters\n",
    "\n",
    " * n_estimators     : Number of boosted trees to fit\n",
    " * num_leaves       : Maximum tree leaves for base learners\n",
    " * max_depth        : Maximum tree depth for base learners, <=0 means no limit\n",
    " * min_child_weight : Minimum sum of instance weight (hessian) needed in a child (leaf).\n",
    " * subsample        : Subsample ratio of the training instance."
   ]
  },
  {
   "cell_type": "code",
   "execution_count": null,
   "metadata": {},
   "outputs": [],
   "source": [
    "# importing required libraries\n",
    "import pandas as pd\n",
    "import numpy as np\n",
    "import matplotlib.pyplot as plt\n",
    "%matplotlib inline\n",
    "import lightgbm as lgb\n",
    "import warnings\n",
    "warnings.filterwarnings('ignore')\n",
    "from tqdm import tqdm\n",
    "from datetime import timedelta\n",
    "\n",
    "from sklearn.metrics import mean_squared_log_error as msle"
   ]
  },
  {
   "cell_type": "code",
   "execution_count": null,
   "metadata": {},
   "outputs": [],
   "source": [
    "# read the final data set with the newly created features\n",
    "data = pd.read_csv('final_data.csv')\n",
    "data.head()"
   ]
  },
  {
   "cell_type": "code",
   "execution_count": null,
   "metadata": {},
   "outputs": [],
   "source": [
    "data = data.drop(columns =['Total_Featured_Products',\n",
    "       'Total_Displayed_Products', 'NPS1', 'NPS2', 'NPS3', 'QRTUNT1',\n",
    "       'QRTUNT2', 'QRTUNT3', 'QRTUNT4'])"
   ]
  },
  {
   "cell_type": "code",
   "execution_count": null,
   "metadata": {},
   "outputs": [],
   "source": [
    "data.head(2)"
   ]
  },
  {
   "cell_type": "code",
   "execution_count": null,
   "metadata": {},
   "outputs": [],
   "source": [
    "# convert the WEEK_END_DATE to datetime format\n",
    "data.WEEK_END_DATE = pd.to_datetime(data.WEEK_END_DATE)"
   ]
  },
  {
   "cell_type": "code",
   "execution_count": null,
   "metadata": {},
   "outputs": [],
   "source": [
    "# let's look at all the features we have in the first row.\n",
    "data.loc[0]"
   ]
  },
  {
   "cell_type": "code",
   "execution_count": null,
   "metadata": {},
   "outputs": [],
   "source": [
    "# we will drop the 2 date columns,  2_MONTH_BEFORE and 1_WEEK_BEFORE as they are not required now.\n",
    "data = data.drop(columns=['2_MONTH_BEFORE', '1_WEEK_BEFORE'])"
   ]
  },
  {
   "cell_type": "code",
   "execution_count": null,
   "metadata": {},
   "outputs": [],
   "source": [
    "data.head(2)"
   ]
  },
  {
   "cell_type": "markdown",
   "metadata": {},
   "source": [
    "We will use the same validation_df function to create the validation sets."
   ]
  },
  {
   "cell_type": "code",
   "execution_count": null,
   "metadata": {},
   "outputs": [],
   "source": [
    "# create an array of unique week dates\n",
    "week = data.WEEK_END_DATE.unique()"
   ]
  },
  {
   "cell_type": "code",
   "execution_count": null,
   "metadata": {},
   "outputs": [],
   "source": [
    "# check for the null values\n",
    "data.isna().sum().sum()"
   ]
  },
  {
   "cell_type": "code",
   "execution_count": 11,
   "metadata": {},
   "outputs": [],
   "source": [
    "def validation_df(data, week, no_of_months, no_of_validation):\n",
    "    \n",
    "    model_set = []\n",
    "    set_n = 1\n",
    "    for w in range(len(week)-1,0,-1):\n",
    "        x_data = {}\n",
    "\n",
    "        x_data['train_start'] = week[w-3-4*no_of_months]\n",
    "        x_data['train_end'] = week[w-4]\n",
    "        x_data['validate_week'] = week[w-2]\n",
    "        x_data['test_week'] = week[w]\n",
    "        x_data['no_days_train'] = x_data['train_end'] - x_data['train_start']\n",
    "        x_data['set_no'] = 'set'+str(set_n)\n",
    "        set_n +=1\n",
    "        model_set.append(x_data)\n",
    "        if(len(model_set) == no_of_validation):\n",
    "            break\n",
    "        \n",
    "        \n",
    "    datapoints = []\n",
    "\n",
    "    for s in model_set :\n",
    "        x = {}\n",
    "        train_set = data[(data.WEEK_END_DATE >= s['train_start']) & (data.WEEK_END_DATE <= s['train_end'])]\n",
    "        x['train_shape'] = train_set.shape[0]\n",
    "        x['validation_shape']  = data[data.WEEK_END_DATE == s['validate_week']].shape[0]\n",
    "        x['test_shape'] = data[data.WEEK_END_DATE == s['test_week']].shape[0]\n",
    "        x.update(s)\n",
    "        datapoints.append(x)\n",
    "\n",
    "    df = pd.DataFrame.from_dict(datapoints)\n",
    "    df['no_days_train'] = df['no_days_train'] + timedelta(days=7)\n",
    "    return df    "
   ]
  },
  {
   "cell_type": "code",
   "execution_count": 12,
   "metadata": {},
   "outputs": [
    {
     "data": {
      "text/html": [
       "<div>\n",
       "<style scoped>\n",
       "    .dataframe tbody tr th:only-of-type {\n",
       "        vertical-align: middle;\n",
       "    }\n",
       "\n",
       "    .dataframe tbody tr th {\n",
       "        vertical-align: top;\n",
       "    }\n",
       "\n",
       "    .dataframe thead th {\n",
       "        text-align: right;\n",
       "    }\n",
       "</style>\n",
       "<table border=\"1\" class=\"dataframe\">\n",
       "  <thead>\n",
       "    <tr style=\"text-align: right;\">\n",
       "      <th></th>\n",
       "      <th>no_days_train</th>\n",
       "      <th>set_no</th>\n",
       "      <th>test_shape</th>\n",
       "      <th>test_week</th>\n",
       "      <th>train_end</th>\n",
       "      <th>train_shape</th>\n",
       "      <th>train_start</th>\n",
       "      <th>validate_week</th>\n",
       "      <th>validation_shape</th>\n",
       "    </tr>\n",
       "  </thead>\n",
       "  <tbody>\n",
       "    <tr>\n",
       "      <th>0</th>\n",
       "      <td>56 days</td>\n",
       "      <td>set1</td>\n",
       "      <td>1642</td>\n",
       "      <td>2011-09-28</td>\n",
       "      <td>2011-08-31</td>\n",
       "      <td>13089</td>\n",
       "      <td>2011-07-13</td>\n",
       "      <td>2011-09-14</td>\n",
       "      <td>1640</td>\n",
       "    </tr>\n",
       "    <tr>\n",
       "      <th>1</th>\n",
       "      <td>56 days</td>\n",
       "      <td>set2</td>\n",
       "      <td>1638</td>\n",
       "      <td>2011-09-21</td>\n",
       "      <td>2011-08-24</td>\n",
       "      <td>13102</td>\n",
       "      <td>2011-07-06</td>\n",
       "      <td>2011-09-07</td>\n",
       "      <td>1632</td>\n",
       "    </tr>\n",
       "    <tr>\n",
       "      <th>2</th>\n",
       "      <td>56 days</td>\n",
       "      <td>set3</td>\n",
       "      <td>1640</td>\n",
       "      <td>2011-09-14</td>\n",
       "      <td>2011-08-17</td>\n",
       "      <td>13101</td>\n",
       "      <td>2011-06-29</td>\n",
       "      <td>2011-08-31</td>\n",
       "      <td>1629</td>\n",
       "    </tr>\n",
       "    <tr>\n",
       "      <th>3</th>\n",
       "      <td>56 days</td>\n",
       "      <td>set4</td>\n",
       "      <td>1632</td>\n",
       "      <td>2011-09-07</td>\n",
       "      <td>2011-08-10</td>\n",
       "      <td>13101</td>\n",
       "      <td>2011-06-22</td>\n",
       "      <td>2011-08-24</td>\n",
       "      <td>1640</td>\n",
       "    </tr>\n",
       "    <tr>\n",
       "      <th>4</th>\n",
       "      <td>56 days</td>\n",
       "      <td>set5</td>\n",
       "      <td>1629</td>\n",
       "      <td>2011-08-31</td>\n",
       "      <td>2011-08-03</td>\n",
       "      <td>13109</td>\n",
       "      <td>2011-06-15</td>\n",
       "      <td>2011-08-17</td>\n",
       "      <td>1638</td>\n",
       "    </tr>\n",
       "    <tr>\n",
       "      <th>5</th>\n",
       "      <td>56 days</td>\n",
       "      <td>set6</td>\n",
       "      <td>1640</td>\n",
       "      <td>2011-08-24</td>\n",
       "      <td>2011-07-27</td>\n",
       "      <td>13108</td>\n",
       "      <td>2011-06-08</td>\n",
       "      <td>2011-08-10</td>\n",
       "      <td>1631</td>\n",
       "    </tr>\n",
       "    <tr>\n",
       "      <th>6</th>\n",
       "      <td>56 days</td>\n",
       "      <td>set7</td>\n",
       "      <td>1638</td>\n",
       "      <td>2011-08-17</td>\n",
       "      <td>2011-07-20</td>\n",
       "      <td>13108</td>\n",
       "      <td>2011-06-01</td>\n",
       "      <td>2011-08-03</td>\n",
       "      <td>1640</td>\n",
       "    </tr>\n",
       "    <tr>\n",
       "      <th>7</th>\n",
       "      <td>56 days</td>\n",
       "      <td>set8</td>\n",
       "      <td>1631</td>\n",
       "      <td>2011-08-10</td>\n",
       "      <td>2011-07-13</td>\n",
       "      <td>13112</td>\n",
       "      <td>2011-05-25</td>\n",
       "      <td>2011-07-27</td>\n",
       "      <td>1637</td>\n",
       "    </tr>\n",
       "    <tr>\n",
       "      <th>8</th>\n",
       "      <td>56 days</td>\n",
       "      <td>set9</td>\n",
       "      <td>1640</td>\n",
       "      <td>2011-08-03</td>\n",
       "      <td>2011-07-06</td>\n",
       "      <td>13104</td>\n",
       "      <td>2011-05-18</td>\n",
       "      <td>2011-07-20</td>\n",
       "      <td>1635</td>\n",
       "    </tr>\n",
       "    <tr>\n",
       "      <th>9</th>\n",
       "      <td>56 days</td>\n",
       "      <td>set10</td>\n",
       "      <td>1637</td>\n",
       "      <td>2011-07-27</td>\n",
       "      <td>2011-06-29</td>\n",
       "      <td>13101</td>\n",
       "      <td>2011-05-11</td>\n",
       "      <td>2011-07-13</td>\n",
       "      <td>1639</td>\n",
       "    </tr>\n",
       "    <tr>\n",
       "      <th>10</th>\n",
       "      <td>56 days</td>\n",
       "      <td>set11</td>\n",
       "      <td>1635</td>\n",
       "      <td>2011-07-20</td>\n",
       "      <td>2011-06-22</td>\n",
       "      <td>13106</td>\n",
       "      <td>2011-05-04</td>\n",
       "      <td>2011-07-06</td>\n",
       "      <td>1642</td>\n",
       "    </tr>\n",
       "    <tr>\n",
       "      <th>11</th>\n",
       "      <td>56 days</td>\n",
       "      <td>set12</td>\n",
       "      <td>1639</td>\n",
       "      <td>2011-07-13</td>\n",
       "      <td>2011-06-15</td>\n",
       "      <td>13102</td>\n",
       "      <td>2011-04-27</td>\n",
       "      <td>2011-06-29</td>\n",
       "      <td>1639</td>\n",
       "    </tr>\n",
       "    <tr>\n",
       "      <th>12</th>\n",
       "      <td>56 days</td>\n",
       "      <td>set13</td>\n",
       "      <td>1642</td>\n",
       "      <td>2011-07-06</td>\n",
       "      <td>2011-06-08</td>\n",
       "      <td>13096</td>\n",
       "      <td>2011-04-20</td>\n",
       "      <td>2011-06-22</td>\n",
       "      <td>1638</td>\n",
       "    </tr>\n",
       "    <tr>\n",
       "      <th>13</th>\n",
       "      <td>56 days</td>\n",
       "      <td>set14</td>\n",
       "      <td>1639</td>\n",
       "      <td>2011-06-29</td>\n",
       "      <td>2011-06-01</td>\n",
       "      <td>13093</td>\n",
       "      <td>2011-04-13</td>\n",
       "      <td>2011-06-15</td>\n",
       "      <td>1639</td>\n",
       "    </tr>\n",
       "  </tbody>\n",
       "</table>\n",
       "</div>"
      ],
      "text/plain": [
       "   no_days_train set_no  test_shape  test_week  train_end  train_shape  \\\n",
       "0        56 days   set1        1642 2011-09-28 2011-08-31        13089   \n",
       "1        56 days   set2        1638 2011-09-21 2011-08-24        13102   \n",
       "2        56 days   set3        1640 2011-09-14 2011-08-17        13101   \n",
       "3        56 days   set4        1632 2011-09-07 2011-08-10        13101   \n",
       "4        56 days   set5        1629 2011-08-31 2011-08-03        13109   \n",
       "5        56 days   set6        1640 2011-08-24 2011-07-27        13108   \n",
       "6        56 days   set7        1638 2011-08-17 2011-07-20        13108   \n",
       "7        56 days   set8        1631 2011-08-10 2011-07-13        13112   \n",
       "8        56 days   set9        1640 2011-08-03 2011-07-06        13104   \n",
       "9        56 days  set10        1637 2011-07-27 2011-06-29        13101   \n",
       "10       56 days  set11        1635 2011-07-20 2011-06-22        13106   \n",
       "11       56 days  set12        1639 2011-07-13 2011-06-15        13102   \n",
       "12       56 days  set13        1642 2011-07-06 2011-06-08        13096   \n",
       "13       56 days  set14        1639 2011-06-29 2011-06-01        13093   \n",
       "\n",
       "   train_start validate_week  validation_shape  \n",
       "0   2011-07-13    2011-09-14              1640  \n",
       "1   2011-07-06    2011-09-07              1632  \n",
       "2   2011-06-29    2011-08-31              1629  \n",
       "3   2011-06-22    2011-08-24              1640  \n",
       "4   2011-06-15    2011-08-17              1638  \n",
       "5   2011-06-08    2011-08-10              1631  \n",
       "6   2011-06-01    2011-08-03              1640  \n",
       "7   2011-05-25    2011-07-27              1637  \n",
       "8   2011-05-18    2011-07-20              1635  \n",
       "9   2011-05-11    2011-07-13              1639  \n",
       "10  2011-05-04    2011-07-06              1642  \n",
       "11  2011-04-27    2011-06-29              1639  \n",
       "12  2011-04-20    2011-06-22              1638  \n",
       "13  2011-04-13    2011-06-15              1639  "
      ]
     },
     "execution_count": 12,
     "metadata": {},
     "output_type": "execute_result"
    }
   ],
   "source": [
    "# we will use the same combination of 2 month training data with 14 validation sets\n",
    "validation_df(data, week, no_of_months=2, no_of_validation= 14)"
   ]
  },
  {
   "cell_type": "markdown",
   "metadata": {},
   "source": [
    "# create train and validation set from the above as evaluation data sets as done for xgboost and catboost"
   ]
  },
  {
   "cell_type": "code",
   "execution_count": 13,
   "metadata": {},
   "outputs": [],
   "source": [
    "# train validation set\n",
    "def get_evaluation_sets(df):\n",
    "    evaluation_set = []\n",
    "    \n",
    "    for row in range(df.shape[0]):\n",
    "        print(df.loc[row]['validate_week'])\n",
    "        # get the train data\n",
    "        train_data = data[(data.WEEK_END_DATE >= df.loc[row]['train_start']) & (data.WEEK_END_DATE <= df.loc[row]['train_end'])]        \n",
    "        # get the validate data\n",
    "        validation_data = data[data.WEEK_END_DATE == df.loc[row]['validate_week']]\n",
    "        evaluation_set.append((train_data, validation_data))\n",
    "    return evaluation_set"
   ]
  },
  {
   "cell_type": "code",
   "execution_count": 14,
   "metadata": {},
   "outputs": [
    {
     "name": "stdout",
     "output_type": "stream",
     "text": [
      "2011-09-14 00:00:00\n",
      "2011-09-07 00:00:00\n",
      "2011-08-31 00:00:00\n",
      "2011-08-24 00:00:00\n",
      "2011-08-17 00:00:00\n",
      "2011-08-10 00:00:00\n",
      "2011-08-03 00:00:00\n",
      "2011-07-27 00:00:00\n",
      "2011-07-20 00:00:00\n",
      "2011-07-13 00:00:00\n",
      "2011-07-06 00:00:00\n",
      "2011-06-29 00:00:00\n",
      "2011-06-22 00:00:00\n",
      "2011-06-15 00:00:00\n"
     ]
    }
   ],
   "source": [
    "# store the train and validation sets in a list\n",
    "evaluation_set = get_evaluation_sets(validation_df(data, week, no_of_months=2, no_of_validation=14))"
   ]
  },
  {
   "cell_type": "code",
   "execution_count": 15,
   "metadata": {},
   "outputs": [],
   "source": [
    "\n",
    "# function to calculate the RMSLE\n",
    "def get_msle(true, predicted) :\n",
    "    return np.sqrt(msle(true, predicted))\n",
    "\n",
    "\n",
    "# custom evaluation metric function for the XGBoost\n",
    "def custom_eval(preds, dtrain):\n",
    "  \n",
    "    #print(dtrain.astype(int))\n",
    "    #print(preds)\n",
    "    #return\n",
    "    labels = dtrain.get_label().astype(np.int)\n",
    "    #labels  = dtrain.astype(int)\n",
    "    preds = preds.clip(min=0)\n",
    "    \n",
    "    return [('rmsle', get_msle(labels, preds))]\n"
   ]
  },
  {
   "cell_type": "code",
   "execution_count": null,
   "metadata": {},
   "outputs": [],
   "source": [
    " model = lgb.LGBMRegressor(boosting_type = 'gbdt',\n",
    "                                     n_estimators = 100,\n",
    "                                     learning_rate = 0.01,\n",
    "                                     n_jobs=-1,\n",
    "                                     random_state=0,\n",
    "                                     objective='regression')"
   ]
  },
  {
   "cell_type": "code",
   "execution_count": null,
   "metadata": {},
   "outputs": [],
   "source": [
    "model.fit(train_data_x, train_data_y,eval_set= e_set, verbose=False)"
   ]
  },
  {
   "cell_type": "markdown",
   "metadata": {},
   "source": [
    "# N_estimators"
   ]
  },
  {
   "cell_type": "code",
   "execution_count": 17,
   "metadata": {},
   "outputs": [],
   "source": [
    "def get_n_estimators(evaluation_set, min_r, max_r):\n",
    "    \n",
    "    results = []\n",
    "    \n",
    "    for n_est in (range(min_r, max_r, 100)):\n",
    "        x = {}\n",
    "        SCORE_TRAIN = []\n",
    "        SCORE_VALID = []\n",
    "        for train, valid in (evaluation_set):\n",
    "            \n",
    "            # seperate the independent and target variable from the train and validation set\n",
    "            train_data_x = train.drop(columns= ['WEEK_END_DATE', 'UNITS'])\n",
    "            train_data_y = train['UNITS']\n",
    "\n",
    "            valid_data_x = valid.drop(columns= ['WEEK_END_DATE', 'UNITS'])\n",
    "            valid_data_y = valid['UNITS']\n",
    "\n",
    "            # evaluation sets\n",
    "            # we will evaluate our model on both train and validation data\n",
    "            e_set = [(train_data_x, train_data_y), (valid_data_x, valid_data_y)]\n",
    "            \n",
    "            \n",
    "            # define the XGBRegressor Model \n",
    "            model = lgb.LGBMRegressor(boosting_type = 'gbdt',\n",
    "                                     n_estimators = n_est,\n",
    "                                     learning_rate = 0.01,\n",
    "                                     n_jobs=-1,\n",
    "                                     random_state=0,\n",
    "                                     bagging_fraction = 0.33,\n",
    "                                     bagging_freq =5,\n",
    "                                     feature_fraction =0.04,\n",
    "                                     objective='regression')\n",
    "            # fit the model\n",
    "            model.fit(train_data_x, train_data_y,eval_set= e_set, verbose=False)\n",
    "            \n",
    "            # predict on train and valid data\n",
    "            predict_train = model.predict(train_data_x).clip(min=0)\n",
    "            predict_valid = model.predict(valid_data_x).clip(min=0)\n",
    "            \n",
    "            # get the rmsle on train and valid\n",
    "            train_rmsle = get_msle(train_data_y, predict_train)\n",
    "            valid_rmsle = get_msle(valid_data_y, predict_valid)\n",
    "            \n",
    "            SCORE_TRAIN.append(train_rmsle)\n",
    "            SCORE_VALID.append(valid_rmsle)\n",
    "                                 \n",
    "        # calculate the mean rmsle on train and valid\n",
    "        mean_score_train = np.mean(SCORE_TRAIN)\n",
    "        mean_score_valid = np.mean(SCORE_VALID)\n",
    "        \n",
    "        print('With N_ESTIMATORS:\\t'+ str(n_est) + '\\tMEAN RMSLE TRAIN:\\t' + str(mean_score_train) + \"\\tMEAN RMSLE VALID: \"+str(mean_score_valid))\n",
    "        x['n_estimators'] = n_est\n",
    "        x['mean_rmsle_train'] = mean_score_train\n",
    "        x['mean_rmsle_valid'] = mean_score_valid\n",
    "        results.append(x)\n",
    "        \n",
    "\n",
    "    return pd.DataFrame.from_dict(results)"
   ]
  },
  {
   "cell_type": "code",
   "execution_count": 18,
   "metadata": {},
   "outputs": [
    {
     "name": "stdout",
     "output_type": "stream",
     "text": [
      "With N_ESTIMATORS:\t100\tMEAN RMSLE TRAIN:\t0.9027287502667287\tMEAN RMSLE VALID: 0.9016880554751585\n",
      "With N_ESTIMATORS:\t200\tMEAN RMSLE TRAIN:\t0.8234433023711276\tMEAN RMSLE VALID: 0.8280657559448626\n",
      "With N_ESTIMATORS:\t300\tMEAN RMSLE TRAIN:\t0.739666200652768\tMEAN RMSLE VALID: 0.7522268753177698\n",
      "With N_ESTIMATORS:\t400\tMEAN RMSLE TRAIN:\t0.6814733874471618\tMEAN RMSLE VALID: 0.6992403302454019\n",
      "With N_ESTIMATORS:\t500\tMEAN RMSLE TRAIN:\t0.6344683247186403\tMEAN RMSLE VALID: 0.6574972821582191\n",
      "With N_ESTIMATORS:\t600\tMEAN RMSLE TRAIN:\t0.5960502668548344\tMEAN RMSLE VALID: 0.6231081524984726\n",
      "With N_ESTIMATORS:\t700\tMEAN RMSLE TRAIN:\t0.5750171644579353\tMEAN RMSLE VALID: 0.604195878787292\n",
      "With N_ESTIMATORS:\t800\tMEAN RMSLE TRAIN:\t0.5648239555401261\tMEAN RMSLE VALID: 0.5957058087666517\n",
      "With N_ESTIMATORS:\t900\tMEAN RMSLE TRAIN:\t0.5615916700484078\tMEAN RMSLE VALID: 0.5952763640159174\n"
     ]
    }
   ],
   "source": [
    "n_estimators_result = get_n_estimators(evaluation_set,min_r = 100, max_r = 1000)"
   ]
  },
  {
   "cell_type": "code",
   "execution_count": 21,
   "metadata": {},
   "outputs": [
    {
     "data": {
      "text/html": [
       "<div>\n",
       "<style scoped>\n",
       "    .dataframe tbody tr th:only-of-type {\n",
       "        vertical-align: middle;\n",
       "    }\n",
       "\n",
       "    .dataframe tbody tr th {\n",
       "        vertical-align: top;\n",
       "    }\n",
       "\n",
       "    .dataframe thead th {\n",
       "        text-align: right;\n",
       "    }\n",
       "</style>\n",
       "<table border=\"1\" class=\"dataframe\">\n",
       "  <thead>\n",
       "    <tr style=\"text-align: right;\">\n",
       "      <th></th>\n",
       "      <th>mean_rmsle_train</th>\n",
       "      <th>mean_rmsle_valid</th>\n",
       "      <th>n_estimators</th>\n",
       "    </tr>\n",
       "  </thead>\n",
       "  <tbody>\n",
       "    <tr>\n",
       "      <th>0</th>\n",
       "      <td>0.902729</td>\n",
       "      <td>0.901688</td>\n",
       "      <td>100</td>\n",
       "    </tr>\n",
       "    <tr>\n",
       "      <th>1</th>\n",
       "      <td>0.823443</td>\n",
       "      <td>0.828066</td>\n",
       "      <td>200</td>\n",
       "    </tr>\n",
       "    <tr>\n",
       "      <th>2</th>\n",
       "      <td>0.739666</td>\n",
       "      <td>0.752227</td>\n",
       "      <td>300</td>\n",
       "    </tr>\n",
       "    <tr>\n",
       "      <th>3</th>\n",
       "      <td>0.681473</td>\n",
       "      <td>0.699240</td>\n",
       "      <td>400</td>\n",
       "    </tr>\n",
       "    <tr>\n",
       "      <th>4</th>\n",
       "      <td>0.634468</td>\n",
       "      <td>0.657497</td>\n",
       "      <td>500</td>\n",
       "    </tr>\n",
       "    <tr>\n",
       "      <th>5</th>\n",
       "      <td>0.596050</td>\n",
       "      <td>0.623108</td>\n",
       "      <td>600</td>\n",
       "    </tr>\n",
       "    <tr>\n",
       "      <th>6</th>\n",
       "      <td>0.575017</td>\n",
       "      <td>0.604196</td>\n",
       "      <td>700</td>\n",
       "    </tr>\n",
       "    <tr>\n",
       "      <th>7</th>\n",
       "      <td>0.564824</td>\n",
       "      <td>0.595706</td>\n",
       "      <td>800</td>\n",
       "    </tr>\n",
       "    <tr>\n",
       "      <th>8</th>\n",
       "      <td>0.561592</td>\n",
       "      <td>0.595276</td>\n",
       "      <td>900</td>\n",
       "    </tr>\n",
       "  </tbody>\n",
       "</table>\n",
       "</div>"
      ],
      "text/plain": [
       "   mean_rmsle_train  mean_rmsle_valid  n_estimators\n",
       "0          0.902729          0.901688           100\n",
       "1          0.823443          0.828066           200\n",
       "2          0.739666          0.752227           300\n",
       "3          0.681473          0.699240           400\n",
       "4          0.634468          0.657497           500\n",
       "5          0.596050          0.623108           600\n",
       "6          0.575017          0.604196           700\n",
       "7          0.564824          0.595706           800\n",
       "8          0.561592          0.595276           900"
      ]
     },
     "execution_count": 21,
     "metadata": {},
     "output_type": "execute_result"
    }
   ],
   "source": [
    "n_estimators_result"
   ]
  },
  {
   "cell_type": "code",
   "execution_count": 22,
   "metadata": {},
   "outputs": [
    {
     "data": {
      "image/png": "[encoded data removed]",
      "text/plain": [
       "<Figure size 1080x504 with 1 Axes>"
      ]
     },
     "metadata": {
      "needs_background": "light"
     },
     "output_type": "display_data"
    }
   ],
   "source": [
    "plt.figure(figsize=(15,7))\n",
    "plt.plot(n_estimators_result['n_estimators'], n_estimators_result['mean_rmsle_train'], marker='o', label= 'train')\n",
    "plt.plot(n_estimators_result['n_estimators'], n_estimators_result['mean_rmsle_valid'], marker='o', label= 'valid')\n",
    "plt.legend();"
   ]
  },
  {
   "cell_type": "code",
   "execution_count": null,
   "metadata": {},
   "outputs": [],
   "source": [
    "n_estimators_result = get_n_estimators(evaluation_set,min_r = 100, max_r = 1000)"
   ]
  }
 ],
 "metadata": {
  "kernelspec": {
   "display_name": "Python 3",
   "language": "python",
   "name": "python3"
  },
  "language_info": {
   "codemirror_mode": {
    "name": "ipython",
    "version": 3
   },
   "file_extension": ".py",
   "mimetype": "text/x-python",
   "name": "python",
   "nbconvert_exporter": "python",
   "pygments_lexer": "ipython3",
   "version": "3.7.3"
  }
 },
 "nbformat": 4,
 "nbformat_minor": 2
}
